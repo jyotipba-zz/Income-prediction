{
 "cells": [
  {
   "cell_type": "code",
   "execution_count": 3,
   "metadata": {
    "collapsed": false
   },
   "outputs": [],
   "source": [
    "library(\"ggplot2\" )\n",
    "library(\"plotly\")\n",
    "#library(plyr)\n",
    "library(dplyr)\n",
    "library(reshape2)\n",
    "library(caret)\n",
    "library(mlr)  ## For smote\n",
    "\n",
    "## Implmenting xgboot\n",
    "library(xgboost)\n",
    "\n",
    "library(randomForest)\n"
   ]
  },
  {
   "cell_type": "code",
   "execution_count": 4,
   "metadata": {
    "collapsed": false
   },
   "outputs": [],
   "source": [
    "train_data=read.table(\"adult.data\",sep = ',' ,na.strings = c(\"\",\" \",\"?\",\"NA\",NA), fill=FALSE, strip.white = T)\n",
    "\n",
    "col_names= c('age', 'workclass', 'fnlwgt', 'education', \n",
    "                     'education_num', 'marital_status', 'occupation', 'relationship', 'race', 'sex', \n",
    "                     'capital_gain', 'capital_loss', 'hours_per_week', 'native_country', 'income')\n",
    "\n",
    "colnames(train_data) = col_names\n",
    "\n",
    "# Loading test data\n",
    "test_data=read.table(\"adult.test\",sep = ',' , na.strings = c(\"\",\" \",\"?\",\"NA\",NA), skip= 1, fill=F, strip.white = T)\n",
    "\n",
    "colnames(test_data) = col_names"
   ]
  },
  {
   "cell_type": "code",
   "execution_count": 90,
   "metadata": {
    "collapsed": false
   },
   "outputs": [
    {
     "name": "stdout",
     "output_type": "stream",
     "text": [
      "'data.frame':\t32561 obs. of  15 variables:\n",
      " $ age           : int  39 50 38 53 28 37 49 52 31 42 ...\n",
      " $ workclass     : Factor w/ 8 levels \"Federal-gov\",..: 7 6 4 4 4 4 4 6 4 4 ...\n",
      " $ fnlwgt        : int  77516 83311 215646 234721 338409 284582 160187 209642 45781 159449 ...\n",
      " $ education     : Factor w/ 16 levels \"10th\",\"11th\",..: 10 10 12 2 10 13 7 12 13 10 ...\n",
      " $ education_num : int  13 13 9 7 13 14 5 9 14 13 ...\n",
      " $ marital_status: Factor w/ 7 levels \"Divorced\",\"Married-AF-spouse\",..: 5 3 1 3 3 3 4 3 5 3 ...\n",
      " $ occupation    : Factor w/ 14 levels \"Adm-clerical\",..: 1 4 6 6 10 4 8 4 10 4 ...\n",
      " $ relationship  : Factor w/ 6 levels \"Husband\",\"Not-in-family\",..: 2 1 2 1 6 6 2 1 2 1 ...\n",
      " $ race          : Factor w/ 5 levels \"Amer-Indian-Eskimo\",..: 5 5 5 3 3 5 3 5 5 5 ...\n",
      " $ sex           : Factor w/ 2 levels \"Female\",\"Male\": 2 2 2 2 1 1 1 2 1 2 ...\n",
      " $ capital_gain  : int  2174 0 0 0 0 0 0 0 14084 5178 ...\n",
      " $ capital_loss  : int  0 0 0 0 0 0 0 0 0 0 ...\n",
      " $ hours_per_week: int  40 13 40 40 40 40 16 45 50 40 ...\n",
      " $ native_country: Factor w/ 41 levels \"Cambodia\",\"Canada\",..: 39 39 39 39 5 39 23 39 39 39 ...\n",
      " $ income        : Factor w/ 2 levels \"<=50K\",\">50K\": 1 1 1 1 1 1 1 2 2 2 ...\n"
     ]
    },
    {
     "data": {
      "text/html": [
       "<table>\n",
       "<thead><tr><th></th><th scope=col>age</th><th scope=col>workclass</th><th scope=col>fnlwgt</th><th scope=col>education</th><th scope=col>education_num</th><th scope=col>marital_status</th><th scope=col>occupation</th><th scope=col>relationship</th><th scope=col>race</th><th scope=col>sex</th><th scope=col>capital_gain</th><th scope=col>capital_loss</th><th scope=col>hours_per_week</th><th scope=col>native_country</th><th scope=col>income</th></tr></thead>\n",
       "<tbody>\n",
       "\t<tr><th scope=row>1</th><td>39</td><td>State-gov</td><td>77516</td><td>Bachelors</td><td>13</td><td>Never-married</td><td>Adm-clerical</td><td>Not-in-family</td><td>White</td><td>Male</td><td>2174</td><td>0</td><td>40</td><td>United-States</td><td><=50K</td></tr>\n",
       "\t<tr><th scope=row>2</th><td>50</td><td>Self-emp-not-inc</td><td>83311</td><td>Bachelors</td><td>13</td><td>Married-civ-spouse</td><td>Exec-managerial</td><td>Husband</td><td>White</td><td>Male</td><td>0</td><td>0</td><td>13</td><td>United-States</td><td><=50K</td></tr>\n",
       "\t<tr><th scope=row>3</th><td>38</td><td>Private</td><td>215646</td><td>HS-grad</td><td>9</td><td>Divorced</td><td>Handlers-cleaners</td><td>Not-in-family</td><td>White</td><td>Male</td><td>0</td><td>0</td><td>40</td><td>United-States</td><td><=50K</td></tr>\n",
       "\t<tr><th scope=row>4</th><td>53</td><td>Private</td><td>234721</td><td>11th</td><td>7</td><td>Married-civ-spouse</td><td>Handlers-cleaners</td><td>Husband</td><td>Black</td><td>Male</td><td>0</td><td>0</td><td>40</td><td>United-States</td><td><=50K</td></tr>\n",
       "\t<tr><th scope=row>5</th><td>28</td><td>Private</td><td>338409</td><td>Bachelors</td><td>13</td><td>Married-civ-spouse</td><td>Prof-specialty</td><td>Wife</td><td>Black</td><td>Female</td><td>0</td><td>0</td><td>40</td><td>Cuba</td><td><=50K</td></tr>\n",
       "\t<tr><th scope=row>6</th><td>37</td><td>Private</td><td>284582</td><td>Masters</td><td>14</td><td>Married-civ-spouse</td><td>Exec-managerial</td><td>Wife</td><td>White</td><td>Female</td><td>0</td><td>0</td><td>40</td><td>United-States</td><td><=50K</td></tr>\n",
       "</tbody>\n",
       "</table>\n"
      ],
      "text/latex": [
       "\\begin{tabular}{r|lllllllllllllll}\n",
       "  & age & workclass & fnlwgt & education & education_num & marital_status & occupation & relationship & race & sex & capital_gain & capital_loss & hours_per_week & native_country & income\\\\\n",
       "\\hline\n",
       "\t1 & 39 & State-gov & 77516 & Bachelors & 13 & Never-married & Adm-clerical & Not-in-family & White & Male & 2174 & 0 & 40 & United-States & <=50K\\\\\n",
       "\t2 & 50 & Self-emp-not-inc & 83311 & Bachelors & 13 & Married-civ-spouse & Exec-managerial & Husband & White & Male & 0 & 0 & 13 & United-States & <=50K\\\\\n",
       "\t3 & 38 & Private & 215646 & HS-grad & 9 & Divorced & Handlers-cleaners & Not-in-family & White & Male & 0 & 0 & 40 & United-States & <=50K\\\\\n",
       "\t4 & 53 & Private & 234721 & 11th & 7 & Married-civ-spouse & Handlers-cleaners & Husband & Black & Male & 0 & 0 & 40 & United-States & <=50K\\\\\n",
       "\t5 & 28 & Private & 338409 & Bachelors & 13 & Married-civ-spouse & Prof-specialty & Wife & Black & Female & 0 & 0 & 40 & Cuba & <=50K\\\\\n",
       "\t6 & 37 & Private & 284582 & Masters & 14 & Married-civ-spouse & Exec-managerial & Wife & White & Female & 0 & 0 & 40 & United-States & <=50K\\\\\n",
       "\\end{tabular}\n"
      ],
      "text/plain": [
       "  age        workclass fnlwgt education education_num     marital_status\n",
       "1  39        State-gov  77516 Bachelors            13      Never-married\n",
       "2  50 Self-emp-not-inc  83311 Bachelors            13 Married-civ-spouse\n",
       "3  38          Private 215646   HS-grad             9           Divorced\n",
       "4  53          Private 234721      11th             7 Married-civ-spouse\n",
       "5  28          Private 338409 Bachelors            13 Married-civ-spouse\n",
       "6  37          Private 284582   Masters            14 Married-civ-spouse\n",
       "         occupation  relationship  race    sex capital_gain capital_loss\n",
       "1      Adm-clerical Not-in-family White   Male         2174            0\n",
       "2   Exec-managerial       Husband White   Male            0            0\n",
       "3 Handlers-cleaners Not-in-family White   Male            0            0\n",
       "4 Handlers-cleaners       Husband Black   Male            0            0\n",
       "5    Prof-specialty          Wife Black Female            0            0\n",
       "6   Exec-managerial          Wife White Female            0            0\n",
       "  hours_per_week native_country income\n",
       "1             40  United-States  <=50K\n",
       "2             13  United-States  <=50K\n",
       "3             40  United-States  <=50K\n",
       "4             40  United-States  <=50K\n",
       "5             40           Cuba  <=50K\n",
       "6             40  United-States  <=50K"
      ]
     },
     "execution_count": 90,
     "metadata": {},
     "output_type": "execute_result"
    },
    {
     "data": {
      "text/plain": [
       "\n",
       "<=50K  >50K \n",
       "24720  7841 "
      ]
     },
     "execution_count": 90,
     "metadata": {},
     "output_type": "execute_result"
    }
   ],
   "source": [
    "str(train_data)\n",
    "head(train_data)  ## Inspecting the data\n",
    "table(train_data[, 15])\n",
    "\n",
    "\n",
    "## As can be seen , the dataset has 14 independent variables. \n"
   ]
  },
  {
   "cell_type": "code",
   "execution_count": 4,
   "metadata": {
    "collapsed": false
   },
   "outputs": [
    {
     "name": "stdout",
     "output_type": "stream",
     "text": [
      "'data.frame':\t16281 obs. of  15 variables:\n",
      " $ age           : int  25 38 28 44 18 34 29 63 24 55 ...\n",
      " $ workclass     : Factor w/ 8 levels \"Federal-gov\",..: 4 4 2 4 NA 4 NA 6 4 4 ...\n",
      " $ fnlwgt        : int  226802 89814 336951 160323 103497 198693 227026 104626 369667 104996 ...\n",
      " $ education     : Factor w/ 16 levels \"10th\",\"11th\",..: 2 12 8 16 16 1 12 15 16 6 ...\n",
      " $ education_num : int  7 9 12 10 10 6 9 15 10 4 ...\n",
      " $ marital_status: Factor w/ 7 levels \"Divorced\",\"Married-AF-spouse\",..: 5 3 3 3 5 5 5 3 5 3 ...\n",
      " $ occupation    : Factor w/ 14 levels \"Adm-clerical\",..: 7 5 11 7 NA 8 NA 10 8 3 ...\n",
      " $ relationship  : Factor w/ 6 levels \"Husband\",\"Not-in-family\",..: 4 1 1 1 4 2 5 1 5 1 ...\n",
      " $ race          : Factor w/ 5 levels \"Amer-Indian-Eskimo\",..: 3 5 5 3 5 5 3 5 5 5 ...\n",
      " $ sex           : Factor w/ 2 levels \"Female\",\"Male\": 2 2 2 2 1 2 2 2 1 2 ...\n",
      " $ capital_gain  : int  0 0 0 7688 0 0 0 3103 0 0 ...\n",
      " $ capital_loss  : int  0 0 0 0 0 0 0 0 0 0 ...\n",
      " $ hours_per_week: int  40 50 40 40 30 30 40 32 40 10 ...\n",
      " $ native_country: Factor w/ 40 levels \"Cambodia\",\"Canada\",..: 38 38 38 38 38 38 38 38 38 38 ...\n",
      " $ income        : Factor w/ 2 levels \"<=50K.\",\">50K.\": 1 1 2 2 1 1 1 2 1 1 ...\n"
     ]
    }
   ],
   "source": [
    "str(test_data)"
   ]
  },
  {
   "cell_type": "code",
   "execution_count": 5,
   "metadata": {
    "collapsed": false
   },
   "outputs": [],
   "source": [
    "## Dropping some variables, as they are not informatory.\n",
    " ##education variable can be removed, because similar information is provided by variable education_num.\n",
    "## Similary, \"fnlwgt\" is also delected for the sake of simplicity.\n",
    "train_data$education =  NULL\n",
    "train_data[['fnlwgt']] = NULL\n",
    "\n",
    "\n",
    "test_data$education =  NULL\n",
    "test_data[['fnlwgt']] = NULL\n",
    "\n",
    "\n"
   ]
  },
  {
   "cell_type": "code",
   "execution_count": null,
   "metadata": {
    "collapsed": true
   },
   "outputs": [],
   "source": []
  },
  {
   "cell_type": "code",
   "execution_count": 6,
   "metadata": {
    "collapsed": false
   },
   "outputs": [
    {
     "data": {
      "text/plain": [
       "\n",
       "Female   Male \n",
       " 10771  21790 "
      ]
     },
     "execution_count": 6,
     "metadata": {},
     "output_type": "execute_result"
    }
   ],
   "source": [
    "## Now, lets see the explore some variables, starting with variable sex\n",
    "table(train_data$sex)\n",
    "## We can see females are under represented \n"
   ]
  },
  {
   "cell_type": "code",
   "execution_count": 7,
   "metadata": {
    "collapsed": false
   },
   "outputs": [
    {
     "data": {
      "text/html": [
       "<table>\n",
       "<thead><tr><th></th><th scope=col>sex</th><th scope=col>income</th><th scope=col>n</th></tr></thead>\n",
       "<tbody>\n",
       "\t<tr><th scope=row>1</th><td>Female</td><td><=50K</td><td>9592</td></tr>\n",
       "\t<tr><th scope=row>2</th><td>Female</td><td>>50K</td><td>1179</td></tr>\n",
       "\t<tr><th scope=row>3</th><td>Male</td><td><=50K</td><td>15128</td></tr>\n",
       "\t<tr><th scope=row>4</th><td>Male</td><td>>50K</td><td>6662</td></tr>\n",
       "</tbody>\n",
       "</table>\n"
      ],
      "text/latex": [
       "\\begin{tabular}{r|lll}\n",
       "  & sex & income & n\\\\\n",
       "\\hline\n",
       "\t1 & Female & <=50K & 9592\\\\\n",
       "\t2 & Female & >50K & 1179\\\\\n",
       "\t3 & Male & <=50K & 15128\\\\\n",
       "\t4 & Male & >50K & 6662\\\\\n",
       "\\end{tabular}\n"
      ],
      "text/plain": [
       "Source: local data frame [4 x 3]\n",
       "Groups: sex [?]\n",
       "\n",
       "     sex income     n\n",
       "  (fctr) (fctr) (int)\n",
       "1 Female  <=50K  9592\n",
       "2 Female   >50K  1179\n",
       "3   Male  <=50K 15128\n",
       "4   Male   >50K  6662"
      ]
     },
     "execution_count": 7,
     "metadata": {},
     "output_type": "execute_result"
    }
   ],
   "source": [
    "\n",
    "income_count_sex = count(train_data, sex , income) # counting the sex by income group \n",
    "(income_count_sex)\n",
    "\n",
    "\n"
   ]
  },
  {
   "cell_type": "code",
   "execution_count": 8,
   "metadata": {
    "collapsed": false
   },
   "outputs": [
    {
     "data": {
      "image/png": "[encoded data removed]",
      "text/plain": [
       "plot without title"
      ]
     },
     "metadata": {
      "image/svg+xml": {
       "isolated": true
      }
     },
     "output_type": "display_data"
    }
   ],
   "source": [
    "ggplot((income_count_sex), aes(x = sex, y = n, fill = income)) +\n",
    "  geom_bar(stat = \"identity\") \n",
    "   \n",
    "\n",
    "## From the bar blot, it can be seen that higher proportion of women has income less than 50K\n",
    "  "
   ]
  },
  {
   "cell_type": "code",
   "execution_count": 9,
   "metadata": {
    "collapsed": false
   },
   "outputs": [
    {
     "data": {
      "text/plain": [
       "\n",
       "     Federal-gov        Local-gov     Never-worked          Private \n",
       "             960             2093                7            22696 \n",
       "    Self-emp-inc Self-emp-not-inc        State-gov      Without-pay \n",
       "            1116             2541             1298               14 "
      ]
     },
     "execution_count": 9,
     "metadata": {},
     "output_type": "execute_result"
    }
   ],
   "source": [
    "## Similarly, let's explore the variable \"workclass\", which means , in which kind of industry respondendants are employed\n",
    "table(train_data$workclass)\n",
    "\n",
    "## we can see that some categories are small categories, hence, they can be combined. Combining the rare levels helps\n",
    "## to avoid redundannt levels. SO, \"Never-worked\" and \"without -pay\" are combined into one group called \"other\".\n",
    "\n",
    "\n",
    "\n",
    "train_data$workclass = gsub('^Never-worked', 'Other', train_data$workclass)\n",
    "train_data$workclass = gsub('^Without-pay', 'Other', train_data$workclass)\n",
    "\n",
    "\n",
    "test_data$workclass = gsub('^Never-worked', 'Other', test_data$workclass)\n",
    "test_data$workclass = gsub('^Without-pay', 'Other', test_data$workclass)\n"
   ]
  },
  {
   "cell_type": "code",
   "execution_count": 10,
   "metadata": {
    "collapsed": false
   },
   "outputs": [],
   "source": [
    "##Similarly, selfSelf-emp-inc and Self-emp-not-inc can be combined into one group, self-employed\n",
    "\n",
    "train_data$workclass = gsub('^Self-emp-not-inc', 'self-employeded', train_data$workclass)\n",
    "train_data$workclass = gsub('^Self-emp-inc', 'self-employeded', train_data$workclass)\n",
    "\n",
    "\n",
    "test_data$workclass = gsub('^Self-emp-not-inc', 'self-employeded', test_data$workclass)\n",
    "test_data$workclass = gsub('^Self-emp-inc', 'self-employeded', test_data$workclass)\n",
    "\n",
    "test_data$workclass=as.factor(test_data$workclass)\n",
    "train_data$workclass=as.factor(train_data$workclass)\n",
    "\n",
    "income_count_workclass = count(train_data, workclass , income)"
   ]
  },
  {
   "cell_type": "code",
   "execution_count": 11,
   "metadata": {
    "collapsed": false
   },
   "outputs": [
    {
     "data": {
      "image/png": "[encoded data removed]",
      "text/plain": [
       "plot without title"
      ]
     },
     "metadata": {
      "image/svg+xml": {
       "isolated": true
      }
     },
     "output_type": "display_data"
    }
   ],
   "source": [
    "\n",
    "\n",
    "ggplot((income_count_workclass), aes(x = workclass, y = n, fill = income)) +\n",
    "  geom_bar(stat = \"identity\") "
   ]
  },
  {
   "cell_type": "code",
   "execution_count": 12,
   "metadata": {
    "collapsed": false
   },
   "outputs": [
    {
     "data": {
      "text/plain": [
       "\n",
       "     Adm-clerical      Armed-Forces      Craft-repair   Exec-managerial \n",
       "             3770                 9              4099              4066 \n",
       "  Farming-fishing Handlers-cleaners Machine-op-inspct     Other-service \n",
       "              994              1370              2002              3295 \n",
       "  Priv-house-serv    Prof-specialty   Protective-serv             Sales \n",
       "              149              4140               649              3650 \n",
       "     Tech-support  Transport-moving \n",
       "              928              1597 "
      ]
     },
     "execution_count": 12,
     "metadata": {},
     "output_type": "execute_result"
    }
   ],
   "source": [
    "table(train_data$occupation)"
   ]
  },
  {
   "cell_type": "code",
   "execution_count": null,
   "metadata": {
    "collapsed": false
   },
   "outputs": [],
   "source": []
  },
  {
   "cell_type": "code",
   "execution_count": 13,
   "metadata": {
    "collapsed": false
   },
   "outputs": [
    {
     "data": {
      "text/plain": [
       "\n",
       "       Husband  Not-in-family Other-relative      Own-child      Unmarried \n",
       "         13193           8305            981           5068           3446 \n",
       "          Wife \n",
       "          1568 "
      ]
     },
     "execution_count": 13,
     "metadata": {},
     "output_type": "execute_result"
    }
   ],
   "source": [
    "table(train_data$relationship)\n"
   ]
  },
  {
   "cell_type": "code",
   "execution_count": 14,
   "metadata": {
    "collapsed": false
   },
   "outputs": [
    {
     "data": {
      "text/plain": [
       "\n",
       "             Divorced     Married-AF-spouse    Married-civ-spouse \n",
       "                 4443                    23                 14976 \n",
       "Married-spouse-absent         Never-married             Separated \n",
       "                  418                 10683                  1025 \n",
       "              Widowed \n",
       "                  993 "
      ]
     },
     "execution_count": 14,
     "metadata": {},
     "output_type": "execute_result"
    }
   ],
   "source": [
    "table(train_data$marital_status)\n",
    "## Similarlry, we can reduce the categories for marital_status variable, making single married level."
   ]
  },
  {
   "cell_type": "code",
   "execution_count": 15,
   "metadata": {
    "collapsed": false
   },
   "outputs": [],
   "source": [
    " train_data$marital_status = gsub(\"^Married-AF-spouse\", \"Married\" , train_data$marital_status)\n",
    "train_data$marital_status = gsub(\"^Married-spouse-absent\", \"Married\" , train_data$marital_status)\n",
    "train_data$marital_status = gsub(\"^Married-civ-spouse\", \"Married\" , train_data$marital_status)\n",
    "#train_data$marital_status[train_data$marital_status == \"Married-AF-spouse\"]= \"Married\"\n",
    "\n",
    "## FOr test data\n",
    "\n",
    "test_data$marital_status = gsub(\"^Married-AF-spouse\", \"Married\" , test_data$marital_status)\n",
    "test_data$marital_status = gsub(\"^Married-spouse-absent\", \"Married\" , test_data$marital_status)\n",
    "test_data$marital_status = gsub(\"^Married-civ-spouse\", \"Married\" , test_data$marital_status)\n",
    "\n",
    "\n",
    "test_data$marital_status= as.factor(test_data$marital_status)\n",
    "train_data$marital_status= as.factor(train_data$marital_status)"
   ]
  },
  {
   "cell_type": "code",
   "execution_count": 16,
   "metadata": {
    "collapsed": false
   },
   "outputs": [
    {
     "data": {
      "text/plain": [
       "\n",
       "     Divorced       Married Never-married     Separated       Widowed \n",
       "         4443         15417         10683          1025           993 "
      ]
     },
     "execution_count": 16,
     "metadata": {},
     "output_type": "execute_result"
    }
   ],
   "source": [
    "#train_data$marital_status = as.factor(train_data$marital_status)\n",
    "table(train_data$marital_status)"
   ]
  },
  {
   "cell_type": "code",
   "execution_count": 17,
   "metadata": {
    "collapsed": false
   },
   "outputs": [
    {
     "data": {
      "text/html": [
       "<table>\n",
       "<thead><tr><th></th><th scope=col>marital_status</th><th scope=col>income</th><th scope=col>n</th></tr></thead>\n",
       "<tbody>\n",
       "\t<tr><th scope=row>1</th><td>Divorced</td><td><=50K</td><td>3980</td></tr>\n",
       "\t<tr><th scope=row>2</th><td>Divorced</td><td>>50K</td><td>463</td></tr>\n",
       "\t<tr><th scope=row>3</th><td>Married</td><td><=50K</td><td>8681</td></tr>\n",
       "\t<tr><th scope=row>4</th><td>Married</td><td>>50K</td><td>6736</td></tr>\n",
       "\t<tr><th scope=row>5</th><td>Never-married</td><td><=50K</td><td>10192</td></tr>\n",
       "\t<tr><th scope=row>6</th><td>Never-married</td><td>>50K</td><td>491</td></tr>\n",
       "\t<tr><th scope=row>7</th><td>Separated</td><td><=50K</td><td>959</td></tr>\n",
       "\t<tr><th scope=row>8</th><td>Separated</td><td>>50K</td><td>66</td></tr>\n",
       "\t<tr><th scope=row>9</th><td>Widowed</td><td><=50K</td><td>908</td></tr>\n",
       "\t<tr><th scope=row>10</th><td>Widowed</td><td>>50K</td><td>85</td></tr>\n",
       "</tbody>\n",
       "</table>\n"
      ],
      "text/latex": [
       "\\begin{tabular}{r|lll}\n",
       "  & marital_status & income & n\\\\\n",
       "\\hline\n",
       "\t1 & Divorced & <=50K & 3980\\\\\n",
       "\t2 & Divorced & >50K & 463\\\\\n",
       "\t3 & Married & <=50K & 8681\\\\\n",
       "\t4 & Married & >50K & 6736\\\\\n",
       "\t5 & Never-married & <=50K & 10192\\\\\n",
       "\t6 & Never-married & >50K & 491\\\\\n",
       "\t7 & Separated & <=50K & 959\\\\\n",
       "\t8 & Separated & >50K & 66\\\\\n",
       "\t9 & Widowed & <=50K & 908\\\\\n",
       "\t10 & Widowed & >50K & 85\\\\\n",
       "\\end{tabular}\n"
      ],
      "text/plain": [
       "Source: local data frame [10 x 3]\n",
       "Groups: marital_status [?]\n",
       "\n",
       "   marital_status income     n\n",
       "           (fctr) (fctr) (int)\n",
       "1        Divorced  <=50K  3980\n",
       "2        Divorced   >50K   463\n",
       "3         Married  <=50K  8681\n",
       "4         Married   >50K  6736\n",
       "5   Never-married  <=50K 10192\n",
       "6   Never-married   >50K   491\n",
       "7       Separated  <=50K   959\n",
       "8       Separated   >50K    66\n",
       "9         Widowed  <=50K   908\n",
       "10        Widowed   >50K    85"
      ]
     },
     "execution_count": 17,
     "metadata": {},
     "output_type": "execute_result"
    }
   ],
   "source": [
    "income_count_marital_status = count(train_data, marital_status , income)\n",
    "income_count_marital_status"
   ]
  },
  {
   "cell_type": "code",
   "execution_count": 18,
   "metadata": {
    "collapsed": false
   },
   "outputs": [
    {
     "data": {
      "image/png": "[encoded data removed]",
      "text/plain": [
       "plot without title"
      ]
     },
     "metadata": {
      "image/svg+xml": {
       "isolated": true
      }
     },
     "output_type": "display_data"
    }
   ],
   "source": [
    "ggplot((income_count_marital_status), aes(x = marital_status, y = n, fill = income)) +\n",
    "  geom_bar(stat = \"identity\") \n",
    "\n",
    "## Bar plot shows that higher proportion of married people have  having income more than 50K\n"
   ]
  },
  {
   "cell_type": "code",
   "execution_count": 19,
   "metadata": {
    "collapsed": false
   },
   "outputs": [
    {
     "data": {
      "text/plain": [
       "\n",
       "                  Cambodia                     Canada \n",
       "              0.0005941585               0.0037838514 \n",
       "                     China                   Columbia \n",
       "              0.0023453624               0.0018450185 \n",
       "                      Cuba         Dominican-Republic \n",
       "              0.0029707924               0.0021890049 \n",
       "                   Ecuador                El-Salvador \n",
       "              0.0008756020               0.0033147789 \n",
       "                   England                     France \n",
       "              0.0028144349               0.0009068735 \n",
       "                   Germany                     Greece \n",
       "              0.0042841954               0.0009068735 \n",
       "                 Guatemala                      Haiti \n",
       "              0.0020013759               0.0013759460 \n",
       "        Holand-Netherlands                   Honduras \n",
       "              0.0000312715               0.0004065295 \n",
       "                      Hong                    Hungary \n",
       "              0.0006254300               0.0004065295 \n",
       "                     India                       Iran \n",
       "              0.0031271499               0.0013446745 \n",
       "                   Ireland                      Italy \n",
       "              0.0007505160               0.0022828194 \n",
       "                   Jamaica                      Japan \n",
       "              0.0025329914               0.0019388329 \n",
       "                      Laos                     Mexico \n",
       "              0.0005628870               0.0201075740 \n",
       "                 Nicaragua Outlying-US(Guam-USVI-etc) \n",
       "              0.0010632310               0.0004378010 \n",
       "                      Peru                Philippines \n",
       "              0.0009694165               0.0061917568 \n",
       "                    Poland                   Portugal \n",
       "              0.0018762899               0.0011570455 \n",
       "               Puerto-Rico                   Scotland \n",
       "              0.0035649509               0.0003752580 \n",
       "                     South                     Taiwan \n",
       "              0.0025017199               0.0015948465 \n",
       "                  Thailand            Trinadad&Tobago \n",
       "              0.0005628870               0.0005941585 \n",
       "             United-States                    Vietnam \n",
       "              0.9121896304               0.0020951904 \n",
       "                Yugoslavia \n",
       "              0.0005003440 "
      ]
     },
     "execution_count": 19,
     "metadata": {},
     "output_type": "execute_result"
    }
   ],
   "source": [
    "prop.table(table(train_data$native_country))## Looking at this variable, it can be seen that almost 90% of data belongs to United states only.\n",
    "##SO, we can discard as it is highly skewed.\n",
    "\n",
    "train_data$native_country= NULL\n",
    "test_data$native_country= NULL"
   ]
  },
  {
   "cell_type": "code",
   "execution_count": 20,
   "metadata": {
    "collapsed": false
   },
   "outputs": [
    {
     "data": {
      "text/html": [
       "<dl class=dl-horizontal>\n",
       "\t<dt>Amer-Indian-Eskimo</dt>\n",
       "\t\t<dd>311</dd>\n",
       "\t<dt>Asian-Pac-Islander</dt>\n",
       "\t\t<dd>1039</dd>\n",
       "\t<dt>Black</dt>\n",
       "\t\t<dd>3124</dd>\n",
       "\t<dt>Other</dt>\n",
       "\t\t<dd>271</dd>\n",
       "\t<dt>White</dt>\n",
       "\t\t<dd>27816</dd>\n",
       "</dl>\n"
      ],
      "text/latex": [
       "\\begin{description*}\n",
       "\\item[Amer-Indian-Eskimo] 311\n",
       "\\item[Asian-Pac-Islander] 1039\n",
       "\\item[Black] 3124\n",
       "\\item[Other] 271\n",
       "\\item[White] 27816\n",
       "\\end{description*}\n"
      ],
      "text/markdown": [
       "Amer-Indian-Eskimo\n",
       ":   311Asian-Pac-Islander\n",
       ":   1039Black\n",
       ":   3124Other\n",
       ":   271White\n",
       ":   27816\n",
       "\n"
      ],
      "text/plain": [
       "Amer-Indian-Eskimo Asian-Pac-Islander              Black              Other \n",
       "               311               1039               3124                271 \n",
       "             White \n",
       "             27816 "
      ]
     },
     "execution_count": 20,
     "metadata": {},
     "output_type": "execute_result"
    },
    {
     "data": {
      "image/png": "[encoded data removed]",
      "text/plain": [
       "plot without title"
      ]
     },
     "metadata": {
      "image/svg+xml": {
       "isolated": true
      }
     },
     "output_type": "display_data"
    }
   ],
   "source": [
    "\n",
    "train_data$race= as.factor(train_data$race)\n",
    "summary(train_data$race)\n",
    "\n",
    "## As can be seen the majority of respondents are white.\n",
    "\n",
    "income_count_race = count(train_data, race , income)\n",
    "\n",
    "ggplot((income_count_race), aes(x = race, y = n, fill = income)) +\n",
    "  geom_bar(stat = \"identity\") "
   ]
  },
  {
   "cell_type": "code",
   "execution_count": 21,
   "metadata": {
    "collapsed": false
   },
   "outputs": [
    {
     "data": {
      "image/png": "[encoded data removed]",
      "text/plain": [
       "plot without title"
      ]
     },
     "metadata": {
      "image/svg+xml": {
       "isolated": true
      }
     },
     "output_type": "display_data"
    }
   ],
   "source": [
    "## Let's beging plotting histogram of variable age by income group\n",
    "\n",
    "ggplot(train_data) + aes(x=as.numeric(age), group=income, fill=income) + \n",
    "  geom_histogram(binwidth=1, color='black')\n",
    "\n",
    "## Histogram shows the more people  at the middle of their carrier has income more than 50K"
   ]
  },
  {
   "cell_type": "code",
   "execution_count": 7,
   "metadata": {
    "collapsed": false
   },
   "outputs": [
    {
     "data": {
      "image/png": "[encoded data removed]",
      "text/plain": [
       "plot without title"
      ]
     },
     "metadata": {
      "image/svg+xml": {
       "isolated": true
      }
     },
     "output_type": "display_data"
    }
   ],
   "source": [
    "## Histogram for capital gain \n",
    "ggplot(train_data) + aes(x = capital_gain, group=income, fill=income) + \n",
    "  geom_histogram(binwidth=20)"
   ]
  },
  {
   "cell_type": "code",
   "execution_count": 23,
   "metadata": {
    "collapsed": false
   },
   "outputs": [
    {
     "data": {
      "image/png": "[encoded data removed]",
      "text/plain": [
       "plot without title"
      ]
     },
     "metadata": {
      "image/svg+xml": {
       "isolated": true
      }
     },
     "output_type": "display_data"
    }
   ],
   "source": [
    "## Histogram for capital loss \n",
    "ggplot(train_data) + aes(x=(capital_loss), group=income, fill=income) + \n",
    "  geom_histogram(binwidth=20, color='black')"
   ]
  },
  {
   "cell_type": "code",
   "execution_count": 24,
   "metadata": {
    "collapsed": true
   },
   "outputs": [],
   "source": [
    "## Both the capital gain and capital loss histogram shows that, they both are highly skewed, mostly concentrated around zero. \n",
    "## So, we can drop these two variables too\n",
    "\n",
    "train_data$capital_gain = NULL\n",
    "train_data$capital_loss = NULL\n",
    "\n",
    "test_data$capital_gain = NULL\n",
    "test_data$capital_loss = NULL\n"
   ]
  },
  {
   "cell_type": "code",
   "execution_count": 25,
   "metadata": {
    "collapsed": false
   },
   "outputs": [
    {
     "data": {
      "image/png": "[encoded data removed]",
      "text/plain": [
       "plot without title"
      ]
     },
     "metadata": {
      "image/svg+xml": {
       "isolated": true
      }
     },
     "output_type": "display_data"
    }
   ],
   "source": [
    "## Histogram for hours_per_week\n",
    "ggplot(train_data) + aes(x=as.numeric(hours_per_week), group=income, fill=income) + \n",
    "  geom_histogram(binwidth=5, color='black')"
   ]
  },
  {
   "cell_type": "code",
   "execution_count": 26,
   "metadata": {
    "collapsed": false
   },
   "outputs": [
    {
     "data": {
      "image/png": "[encoded data removed]",
      "text/plain": [
       "plot without title"
      ]
     },
     "metadata": {
      "image/svg+xml": {
       "isolated": true
      }
     },
     "output_type": "display_data"
    }
   ],
   "source": [
    "## Histogram for number of education\n",
    "ggplot(train_data) + aes(x=as.numeric(education_num), group=income, fill=income) + \n",
    "  geom_histogram(binwidth=3, color='black')\n",
    "\n",
    "## Histogram shows people with high  number of years of education, have income more than 50K."
   ]
  },
  {
   "cell_type": "code",
   "execution_count": null,
   "metadata": {
    "collapsed": false
   },
   "outputs": [],
   "source": [
    "\n",
    "\n"
   ]
  },
  {
   "cell_type": "code",
   "execution_count": null,
   "metadata": {
    "collapsed": false
   },
   "outputs": [],
   "source": []
  },
  {
   "cell_type": "code",
   "execution_count": null,
   "metadata": {
    "collapsed": false
   },
   "outputs": [],
   "source": []
  },
  {
   "cell_type": "code",
   "execution_count": 27,
   "metadata": {
    "collapsed": false
   },
   "outputs": [
    {
     "data": {
      "text/html": [
       "<ol class=list-inline>\n",
       "\t<li>30718</li>\n",
       "\t<li>10</li>\n",
       "</ol>\n"
      ],
      "text/latex": [
       "\\begin{enumerate*}\n",
       "\\item 30718\n",
       "\\item 10\n",
       "\\end{enumerate*}\n"
      ],
      "text/markdown": [
       "1. 30718\n",
       "2. 10\n",
       "\n",
       "\n"
      ],
      "text/plain": [
       "[1] 30718    10"
      ]
     },
     "execution_count": 27,
     "metadata": {},
     "output_type": "execute_result"
    },
    {
     "data": {
      "text/html": [
       "<ol class=list-inline>\n",
       "\t<li>15315</li>\n",
       "\t<li>10</li>\n",
       "</ol>\n"
      ],
      "text/latex": [
       "\\begin{enumerate*}\n",
       "\\item 15315\n",
       "\\item 10\n",
       "\\end{enumerate*}\n"
      ],
      "text/markdown": [
       "1. 15315\n",
       "2. 10\n",
       "\n",
       "\n"
      ],
      "text/plain": [
       "[1] 15315    10"
      ]
     },
     "execution_count": 27,
     "metadata": {},
     "output_type": "execute_result"
    }
   ],
   "source": [
    "### Now removing na's \n",
    "complete_indices_train= complete.cases(train_data)\n",
    "complete_indices_test=complete.cases(test_data)\n",
    "\n",
    "\n",
    "train_data=train_data[complete_indices_train, ]\n",
    "test_data=test_data[complete_indices_test, ]\n",
    "\n",
    "dim(train_data)\n",
    "dim(test_data)\n"
   ]
  },
  {
   "cell_type": "markdown",
   "metadata": {
    "collapsed": false
   },
   "source": []
  },
  {
   "cell_type": "code",
   "execution_count": null,
   "metadata": {
    "collapsed": false
   },
   "outputs": [],
   "source": [
    "\n"
   ]
  },
  {
   "cell_type": "code",
   "execution_count": null,
   "metadata": {
    "collapsed": false
   },
   "outputs": [],
   "source": []
  },
  {
   "cell_type": "code",
   "execution_count": null,
   "metadata": {
    "collapsed": false
   },
   "outputs": [],
   "source": [
    "\n"
   ]
  },
  {
   "cell_type": "code",
   "execution_count": 28,
   "metadata": {
    "collapsed": false
   },
   "outputs": [],
   "source": [
    "##  now encoding the class labels\n",
    "train_data[,\"income\"] = ifelse(train_data[, \"income\"]== \"<=50K\",0,1)\n",
    "test_data[,\"income\" ] = ifelse(test_data[, \"income\"] == \"<=50K.\",0,1)\n",
    "\n",
    "\n",
    "train_data[,\"income\"]=as.factor(train_data[,\"income\"])\n",
    "test_data[,\"income\" ]=as.factor(test_data[,\"income\" ])"
   ]
  },
  {
   "cell_type": "code",
   "execution_count": 29,
   "metadata": {
    "collapsed": false
   },
   "outputs": [
    {
     "data": {
      "text/plain": [
       "\n",
       "    0     1 \n",
       "23068  7650 "
      ]
     },
     "execution_count": 29,
     "metadata": {},
     "output_type": "execute_result"
    },
    {
     "data": {
      "text/plain": [
       "\n",
       "    0     1 \n",
       "11543  3772 "
      ]
     },
     "execution_count": 29,
     "metadata": {},
     "output_type": "execute_result"
    }
   ],
   "source": [
    "###############  viewing the class distribution \n",
    "\n",
    "table(train_data[,\"income\"] )\n",
    "table(test_data[,\"income\"] )\n"
   ]
  },
  {
   "cell_type": "code",
   "execution_count": 30,
   "metadata": {
    "collapsed": false
   },
   "outputs": [
    {
     "data": {
      "text/plain": [
       "      age                  workclass     education_num         marital_status \n",
       " Min.   :17.00   Federal-gov    :  960   Min.   : 1.00   Divorced     : 4258  \n",
       " 1st Qu.:28.00   Local-gov      : 2093   1st Qu.: 9.00   Married      :14749  \n",
       " Median :37.00   Other          :   14   Median :10.00   Never-married: 9912  \n",
       " Mean   :38.44   Private        :22696   Mean   :10.13   Separated    :  959  \n",
       " 3rd Qu.:47.00   self-employeded: 3657   3rd Qu.:13.00   Widowed      :  840  \n",
       " Max.   :90.00   State-gov      : 1298   Max.   :16.00                        \n",
       "                                                                              \n",
       "           occupation           relationship                   race      \n",
       " Prof-specialty :4140   Husband       :12704   Amer-Indian-Eskimo:  286  \n",
       " Craft-repair   :4099   Not-in-family : 7865   Asian-Pac-Islander:  974  \n",
       " Exec-managerial:4066   Other-relative:  918   Black             : 2909  \n",
       " Adm-clerical   :3770   Own-child     : 4525   Other             :  248  \n",
       " Sales          :3650   Unmarried     : 3271   White             :26301  \n",
       " Other-service  :3295   Wife          : 1435                             \n",
       " (Other)        :7698                                                    \n",
       "     sex        hours_per_week  income   \n",
       " Female: 9930   Min.   : 1.00   0:23068  \n",
       " Male  :20788   1st Qu.:40.00   1: 7650  \n",
       "                Median :40.00            \n",
       "                Mean   :40.95            \n",
       "                3rd Qu.:45.00            \n",
       "                Max.   :99.00            \n",
       "                                         "
      ]
     },
     "execution_count": 30,
     "metadata": {},
     "output_type": "execute_result"
    },
    {
     "data": {
      "text/plain": [
       "      age                  workclass     education_num         marital_status\n",
       " Min.   :17.00   Federal-gov    :  472   Min.   : 1.00   Divorced     :2105  \n",
       " 1st Qu.:28.00   Local-gov      : 1043   1st Qu.: 9.00   Married      :7317  \n",
       " Median :37.00   Other          :    7   Median :10.00   Never-married:4963  \n",
       " Mean   :38.78   Private        :11210   Mean   :10.13   Separated    : 474  \n",
       " 3rd Qu.:48.00   self-employeded: 1900   3rd Qu.:13.00   Widowed      : 456  \n",
       " Max.   :90.00   State-gov      :  683   Max.   :16.00                       \n",
       "                                                                             \n",
       "           occupation           relationship                  race      \n",
       " Prof-specialty :2032   Husband       :6301   Amer-Indian-Eskimo:  149  \n",
       " Exec-managerial:2020   Not-in-family :4051   Asian-Pac-Islander:  449  \n",
       " Craft-repair   :2013   Other-relative: 482   Black             : 1447  \n",
       " Sales          :1854   Own-child     :2181   Other             :  127  \n",
       " Adm-clerical   :1841   Unmarried     :1596   White             :13143  \n",
       " Other-service  :1628   Wife          : 704                             \n",
       " (Other)        :3927                                                   \n",
       "     sex        hours_per_week  income   \n",
       " Female: 4989   Min.   : 1.00   0:11543  \n",
       " Male  :10326   1st Qu.:40.00   1: 3772  \n",
       "                Median :40.00            \n",
       "                Mean   :40.95            \n",
       "                3rd Qu.:45.00            \n",
       "                Max.   :99.00            \n",
       "                                         "
      ]
     },
     "execution_count": 30,
     "metadata": {},
     "output_type": "execute_result"
    }
   ],
   "source": [
    "summary(train_data)\n",
    "\n",
    "summary(test_data)"
   ]
  },
  {
   "cell_type": "code",
   "execution_count": null,
   "metadata": {
    "collapsed": false
   },
   "outputs": [],
   "source": [
    "\n",
    "\n"
   ]
  },
  {
   "cell_type": "code",
   "execution_count": 31,
   "metadata": {
    "collapsed": false
   },
   "outputs": [],
   "source": [
    "## Prediciting using random forest \n",
    "\n",
    "rf_model= randomForest(train_data[, -10], as.factor(train_data[,10]),proximity = F, ntree= 501)"
   ]
  },
  {
   "cell_type": "code",
   "execution_count": 32,
   "metadata": {
    "collapsed": false
   },
   "outputs": [],
   "source": [
    "rf_predict=predict(rf_model, test_data[,-10])\n"
   ]
  },
  {
   "cell_type": "code",
   "execution_count": 38,
   "metadata": {
    "collapsed": false
   },
   "outputs": [
    {
     "name": "stdout",
     "output_type": "stream",
     "text": [
      "          Reference\n",
      "Prediction     0     1\n",
      "         0 10463  1554\n",
      "         1  1080  2218\n"
     ]
    },
    {
     "data": {
      "text/html": [
       "<dl class=dl-horizontal>\n",
       "\t<dt>Sensitivity</dt>\n",
       "\t\t<dd>0.906436801524734</dd>\n",
       "\t<dt>Specificity</dt>\n",
       "\t\t<dd>0.588016967126193</dd>\n",
       "\t<dt>Pos Pred Value</dt>\n",
       "\t\t<dd>0.870683198801698</dd>\n",
       "\t<dt>Neg Pred Value</dt>\n",
       "\t\t<dd>0.672528805336568</dd>\n",
       "\t<dt>Prevalence</dt>\n",
       "\t\t<dd>0.753705517466536</dd>\n",
       "\t<dt>Detection Rate</dt>\n",
       "\t\t<dd>0.683186418543911</dd>\n",
       "\t<dt>Detection Prevalence</dt>\n",
       "\t\t<dd>0.784655566438133</dd>\n",
       "\t<dt>Balanced Accuracy</dt>\n",
       "\t\t<dd>0.747226884325463</dd>\n",
       "</dl>\n"
      ],
      "text/latex": [
       "\\begin{description*}\n",
       "\\item[Sensitivity] 0.906436801524734\n",
       "\\item[Specificity] 0.588016967126193\n",
       "\\item[Pos Pred Value] 0.870683198801698\n",
       "\\item[Neg Pred Value] 0.672528805336568\n",
       "\\item[Prevalence] 0.753705517466536\n",
       "\\item[Detection Rate] 0.683186418543911\n",
       "\\item[Detection Prevalence] 0.784655566438133\n",
       "\\item[Balanced Accuracy] 0.747226884325463\n",
       "\\end{description*}\n"
      ],
      "text/markdown": [
       "Sensitivity\n",
       ":   0.906436801524734Specificity\n",
       ":   0.588016967126193Pos Pred Value\n",
       ":   0.870683198801698Neg Pred Value\n",
       ":   0.672528805336568Prevalence\n",
       ":   0.753705517466536Detection Rate\n",
       ":   0.683186418543911Detection Prevalence\n",
       ":   0.784655566438133Balanced Accuracy\n",
       ":   0.747226884325463\n",
       "\n"
      ],
      "text/plain": [
       "         Sensitivity          Specificity       Pos Pred Value \n",
       "           0.9064368            0.5880170            0.8706832 \n",
       "      Neg Pred Value           Prevalence       Detection Rate \n",
       "           0.6725288            0.7537055            0.6831864 \n",
       "Detection Prevalence    Balanced Accuracy \n",
       "           0.7846556            0.7472269 "
      ]
     },
     "execution_count": 38,
     "metadata": {},
     "output_type": "execute_result"
    }
   ],
   "source": [
    "confusion_matrix_rf= confusionMatrix( rf_predict , test_data[,10],)\n",
    "print(confusion_matrix_rf$table)\n",
    "\n",
    "confusion_matrix_rf$byClass\n",
    "\n",
    "## It can be seen that overall accuracy of random forest model is around 83 percent. However, if we closely see the confusion \n",
    "##matrix, we can see that class which has higher representation in traning set is classified more accurately than class which\n",
    "## has lower representation in traning set. Almost 90 % percent of majority class are correctly classfied but only around 59 % \n",
    "# of minority class are correcly classified"
   ]
  },
  {
   "cell_type": "code",
   "execution_count": 39,
   "metadata": {
    "collapsed": false
   },
   "outputs": [
    {
     "data": {
      "text/html": [
       "0.828011753183154"
      ],
      "text/latex": [
       "0.828011753183154"
      ],
      "text/markdown": [
       "0.828011753183154"
      ],
      "text/plain": [
       "[1] 0.8280118"
      ]
     },
     "execution_count": 39,
     "metadata": {},
     "output_type": "execute_result"
    }
   ],
   "source": [
    "sum(diag(confusion_matrix_rf$table))/sum(confusion_matrix_rf$table) \n"
   ]
  },
  {
   "cell_type": "code",
   "execution_count": 40,
   "metadata": {
    "collapsed": true
   },
   "outputs": [],
   "source": [
    "## xgboost model"
   ]
  },
  {
   "cell_type": "code",
   "execution_count": 41,
   "metadata": {
    "collapsed": false
   },
   "outputs": [],
   "source": [
    "## Since, xgboost accept only numerical variable, we first need to convert categorical variable into numeric \n",
    "encoder= dummyVars(\" ~ .\", data = train_data[, -10],fullRank = T)\n",
    "train_encoded = data.frame(predict(encoder, newdata = train_data[, -10]))\n",
    "test_encoded =data.frame(predict(encoder, newdata = test_data[, -10] ))\n",
    "\n",
    "train_label=train_data[, 10]\n",
    "test_label=test_data[, 10]     ## Separating the target variable, both for train and test data\n",
    "\n",
    "\n",
    "\n",
    "\n"
   ]
  },
  {
   "cell_type": "code",
   "execution_count": 42,
   "metadata": {
    "collapsed": false
   },
   "outputs": [],
   "source": [
    "#  putting  testing & training data into two seperates Dmatrixs objects\n",
    "\n",
    "\n",
    "dtrain =  xgb.DMatrix(data = as.matrix(train_encoded), label= as.numeric(as.character(train_label)))\n",
    "dtest = xgb.DMatrix(data = as.matrix(test_encoded), label= as.numeric(as.character(test_label)))"
   ]
  },
  {
   "cell_type": "code",
   "execution_count": 43,
   "metadata": {
    "collapsed": false
   },
   "outputs": [
    {
     "name": "stdout",
     "output_type": "stream",
     "text": [
      "[0]\ttrain-error:0.170324+0.004759\ttest-error:0.180155+0.007884\n",
      "[10]\ttrain-error:0.151312+0.001364\ttest-error:0.165115+0.004573\n",
      "[20]\ttrain-error:0.145705+0.001788\ttest-error:0.165603+0.003850\n",
      "[30]\ttrain-error:0.141033+0.002422\ttest-error:0.165603+0.004701\n"
     ]
    }
   ],
   "source": [
    "params = list(booster = \"gbtree\", objective = \"binary:logistic\", eta=0.3, gamma=0, max_depth=8, min_child_weight=1, \n",
    "              subsample=1, colsample_bytree=.7)\n",
    "\n",
    "xgbcv = xgb.cv( params = params, data = dtrain, nrounds = 40, nfold = 5, showsd = T, stratified = T, \n",
    "               print.every.n = 10,  maximize = F, metric=\"error\")\n",
    "\n",
    "\n",
    "\n",
    " "
   ]
  },
  {
   "cell_type": "code",
   "execution_count": 44,
   "metadata": {
    "collapsed": false
   },
   "outputs": [
    {
     "name": "stdout",
     "output_type": "stream",
     "text": [
      "[0]\ttrain-error:0.173514\n",
      "[1]\ttrain-error:0.171821\n",
      "[2]\ttrain-error:0.166547\n",
      "[3]\ttrain-error:0.164854\n",
      "[4]\ttrain-error:0.162380\n",
      "[5]\ttrain-error:0.160981\n",
      "[6]\ttrain-error:0.160167\n",
      "[7]\ttrain-error:0.159288\n",
      "[8]\ttrain-error:0.158734\n",
      "[9]\ttrain-error:0.157920\n",
      "[10]\ttrain-error:0.156618\n",
      "[11]\ttrain-error:0.156423\n",
      "[12]\ttrain-error:0.154828\n",
      "[13]\ttrain-error:0.154502\n",
      "[14]\ttrain-error:0.154405\n",
      "[15]\ttrain-error:0.153819\n",
      "[16]\ttrain-error:0.152386\n",
      "[17]\ttrain-error:0.152516\n",
      "[18]\ttrain-error:0.151703\n",
      "[19]\ttrain-error:0.151214\n",
      "[20]\ttrain-error:0.150986\n",
      "[21]\ttrain-error:0.150303\n",
      "[22]\ttrain-error:0.148642\n",
      "[23]\ttrain-error:0.147894\n",
      "[24]\ttrain-error:0.147503\n",
      "[25]\ttrain-error:0.147145\n",
      "[26]\ttrain-error:0.146852\n",
      "[27]\ttrain-error:0.145940\n",
      "[28]\ttrain-error:0.145940\n",
      "[29]\ttrain-error:0.146038\n",
      "[30]\ttrain-error:0.146071\n",
      "[31]\ttrain-error:0.146136\n",
      "[32]\ttrain-error:0.145387\n",
      "[33]\ttrain-error:0.143922\n",
      "[34]\ttrain-error:0.143304\n",
      "[35]\ttrain-error:0.143076\n",
      "[36]\ttrain-error:0.143076\n",
      "[37]\ttrain-error:0.142490\n",
      "[38]\ttrain-error:0.142132\n",
      "[39]\ttrain-error:0.141904\n",
      "[1] \"test-error= 0.167352269017303\"\n"
     ]
    }
   ],
   "source": [
    "\n",
    "xg_model  =  xgboost(data = dtrain, # the data           \n",
    "                 max.depth = 6, # the maximum depth of each decision tree\n",
    "                 nround = 40, # max number of boosting iterations\n",
    "                 objective = \"binary:logistic\",\n",
    "                    eval_metric = \"error\",\n",
    "                    eta=0.5,\n",
    "                     silent=0,\n",
    "                     \n",
    "                     \n",
    "                     \n",
    "                     )\n",
    "pred_xgboost =  predict(xg_model, dtest)\n",
    "\n"
   ]
  },
  {
   "cell_type": "code",
   "execution_count": 47,
   "metadata": {
    "collapsed": false
   },
   "outputs": [
    {
     "data": {
      "text/plain": [
       "          Reference\n",
       "Prediction     0     1\n",
       "         0 10508  1528\n",
       "         1  1035  2244"
      ]
     },
     "execution_count": 47,
     "metadata": {},
     "output_type": "execute_result"
    },
    {
     "data": {
      "text/html": [
       "<dl class=dl-horizontal>\n",
       "\t<dt>Sensitivity</dt>\n",
       "\t\t<dd>0.91033526812787</dd>\n",
       "\t<dt>Specificity</dt>\n",
       "\t\t<dd>0.5949098621421</dd>\n",
       "\t<dt>Pos Pred Value</dt>\n",
       "\t\t<dd>0.873047524094383</dd>\n",
       "\t<dt>Neg Pred Value</dt>\n",
       "\t\t<dd>0.684354986276304</dd>\n",
       "\t<dt>Prevalence</dt>\n",
       "\t\t<dd>0.753705517466536</dd>\n",
       "\t<dt>Detection Rate</dt>\n",
       "\t\t<dd>0.686124714332354</dd>\n",
       "\t<dt>Detection Prevalence</dt>\n",
       "\t\t<dd>0.785896180215475</dd>\n",
       "\t<dt>Balanced Accuracy</dt>\n",
       "\t\t<dd>0.752622565134985</dd>\n",
       "</dl>\n"
      ],
      "text/latex": [
       "\\begin{description*}\n",
       "\\item[Sensitivity] 0.91033526812787\n",
       "\\item[Specificity] 0.5949098621421\n",
       "\\item[Pos Pred Value] 0.873047524094383\n",
       "\\item[Neg Pred Value] 0.684354986276304\n",
       "\\item[Prevalence] 0.753705517466536\n",
       "\\item[Detection Rate] 0.686124714332354\n",
       "\\item[Detection Prevalence] 0.785896180215475\n",
       "\\item[Balanced Accuracy] 0.752622565134985\n",
       "\\end{description*}\n"
      ],
      "text/markdown": [
       "Sensitivity\n",
       ":   0.91033526812787Specificity\n",
       ":   0.5949098621421Pos Pred Value\n",
       ":   0.873047524094383Neg Pred Value\n",
       ":   0.684354986276304Prevalence\n",
       ":   0.753705517466536Detection Rate\n",
       ":   0.686124714332354Detection Prevalence\n",
       ":   0.785896180215475Balanced Accuracy\n",
       ":   0.752622565134985\n",
       "\n"
      ],
      "text/plain": [
       "         Sensitivity          Specificity       Pos Pred Value \n",
       "           0.9103353            0.5949099            0.8730475 \n",
       "      Neg Pred Value           Prevalence       Detection Rate \n",
       "           0.6843550            0.7537055            0.6861247 \n",
       "Detection Prevalence    Balanced Accuracy \n",
       "           0.7858962            0.7526226 "
      ]
     },
     "execution_count": 47,
     "metadata": {},
     "output_type": "execute_result"
    },
    {
     "data": {
      "text/html": [
       "0.832647730982697"
      ],
      "text/latex": [
       "0.832647730982697"
      ],
      "text/markdown": [
       "0.832647730982697"
      ],
      "text/plain": [
       "[1] 0.8326477"
      ]
     },
     "execution_count": 47,
     "metadata": {},
     "output_type": "execute_result"
    }
   ],
   "source": [
    "prediction_xgboost = as.factor (as.numeric(pred_xgboost > 0.5))\n",
    "confusion_matrix_xgboost= confusionMatrix(prediction_xgboost, test_data[, 10] )\n",
    "confusion_matrix_xgboost$table\n",
    "\n",
    "confusion_matrix_xgboost$byClass\n",
    "\n",
    "sum(diag(confusion_matrix_xgboost$table))/sum(confusion_matrix_xgboost$table)"
   ]
  },
  {
   "cell_type": "code",
   "execution_count": 1,
   "metadata": {
    "collapsed": false
   },
   "outputs": [],
   "source": [
    "## If we comapre the performance  of random forest model and xgboost model, xgboost performace is slightly better than\n",
    "## random forest, both in terms of overall accuracy, and predicting minority class.\n",
    "\n",
    "## "
   ]
  },
  {
   "cell_type": "code",
   "execution_count": 48,
   "metadata": {
    "collapsed": false
   },
   "outputs": [],
   "source": [
    "\n",
    "tasks = makeClassifTask(data = train_data,target = \"income\")\n",
    "\n",
    "sampled_train=smote(tasks, rate=2, nn = 5L,  alt.logic = FALSE)\n",
    "\n",
    "sampled_train=(getTaskData(sampled_train))"
   ]
  },
  {
   "cell_type": "code",
   "execution_count": 49,
   "metadata": {
    "collapsed": false
   },
   "outputs": [
    {
     "name": "stdout",
     "output_type": "stream",
     "text": [
      "\n",
      "    0     1 \n",
      "23068  7650 \n",
      "[1] \"class distribution before data sampling\"\n",
      "\n",
      "    0     1 \n",
      "23068 15300 \n",
      "[1] \"class distribution after data sampling\"\n"
     ]
    }
   ],
   "source": [
    "\n",
    "print( table(train_data[,\"income\"] ))\n",
    "print(paste(\"class distribution before data sampling\"))\n",
    "\n",
    "print(table(sampled_train[,10]))\n",
    "print (paste(\"class distribution after data sampling\"))\n",
    "\n",
    "## We see now, the number of minority class has been doubled in newly sampled training set."
   ]
  },
  {
   "cell_type": "code",
   "execution_count": 50,
   "metadata": {
    "collapsed": false
   },
   "outputs": [],
   "source": [
    "rf_model_sampled= randomForest(sampled_train[, -10], as.factor(sampled_train[,10]),proximity = F, ntree= 501)"
   ]
  },
  {
   "cell_type": "code",
   "execution_count": 51,
   "metadata": {
    "collapsed": false
   },
   "outputs": [
    {
     "data": {
      "text/plain": [
       "          Reference\n",
       "Prediction     0     1\n",
       "         0 10386  1496\n",
       "         1  1157  2276"
      ]
     },
     "execution_count": 51,
     "metadata": {},
     "output_type": "execute_result"
    },
    {
     "data": {
      "text/html": [
       "<dl class=dl-horizontal>\n",
       "\t<dt>Sensitivity</dt>\n",
       "\t\t<dd>0.899766092003812</dd>\n",
       "\t<dt>Specificity</dt>\n",
       "\t\t<dd>0.6033934252386</dd>\n",
       "\t<dt>Pos Pred Value</dt>\n",
       "\t\t<dd>0.874095270156539</dd>\n",
       "\t<dt>Neg Pred Value</dt>\n",
       "\t\t<dd>0.662976988057093</dd>\n",
       "\t<dt>Prevalence</dt>\n",
       "\t\t<dd>0.753705517466536</dd>\n",
       "\t<dt>Detection Rate</dt>\n",
       "\t\t<dd>0.678158667972576</dd>\n",
       "\t<dt>Detection Prevalence</dt>\n",
       "\t\t<dd>0.775840679072804</dd>\n",
       "\t<dt>Balanced Accuracy</dt>\n",
       "\t\t<dd>0.751579758621206</dd>\n",
       "</dl>\n"
      ],
      "text/latex": [
       "\\begin{description*}\n",
       "\\item[Sensitivity] 0.899766092003812\n",
       "\\item[Specificity] 0.6033934252386\n",
       "\\item[Pos Pred Value] 0.874095270156539\n",
       "\\item[Neg Pred Value] 0.662976988057093\n",
       "\\item[Prevalence] 0.753705517466536\n",
       "\\item[Detection Rate] 0.678158667972576\n",
       "\\item[Detection Prevalence] 0.775840679072804\n",
       "\\item[Balanced Accuracy] 0.751579758621206\n",
       "\\end{description*}\n"
      ],
      "text/markdown": [
       "Sensitivity\n",
       ":   0.899766092003812Specificity\n",
       ":   0.6033934252386Pos Pred Value\n",
       ":   0.874095270156539Neg Pred Value\n",
       ":   0.662976988057093Prevalence\n",
       ":   0.753705517466536Detection Rate\n",
       ":   0.678158667972576Detection Prevalence\n",
       ":   0.775840679072804Balanced Accuracy\n",
       ":   0.751579758621206\n",
       "\n"
      ],
      "text/plain": [
       "         Sensitivity          Specificity       Pos Pred Value \n",
       "           0.8997661            0.6033934            0.8740953 \n",
       "      Neg Pred Value           Prevalence       Detection Rate \n",
       "           0.6629770            0.7537055            0.6781587 \n",
       "Detection Prevalence    Balanced Accuracy \n",
       "           0.7758407            0.7515798 "
      ]
     },
     "execution_count": 51,
     "metadata": {},
     "output_type": "execute_result"
    }
   ],
   "source": [
    "rf_predict_sampled = predict(rf_model_sampled, test_data[,-10])\n",
    "confusion_matrix_rf_sampled= confusionMatrix( rf_predict_sampled , test_data[,10],)\n",
    "confusion_matrix_rf_sampled$table\n",
    "confusion_matrix_rf_sampled$byClass\n",
    "\n",
    "\n",
    "## We didn't see the significant improve in minority class prediciton after sampling of data too\n"
   ]
  },
  {
   "cell_type": "code",
   "execution_count": 78,
   "metadata": {
    "collapsed": false
   },
   "outputs": [
    {
     "data": {
      "text/html": [
       "0.826836434867777"
      ],
      "text/latex": [
       "0.826836434867777"
      ],
      "text/markdown": [
       "0.826836434867777"
      ],
      "text/plain": [
       "[1] 0.8268364"
      ]
     },
     "execution_count": 78,
     "metadata": {},
     "output_type": "execute_result"
    }
   ],
   "source": [
    "sum(diag(confusion_matrix_rf_sampled$table))/sum(confusion_matrix_rf_sampled$table) "
   ]
  },
  {
   "cell_type": "code",
   "execution_count": null,
   "metadata": {
    "collapsed": false
   },
   "outputs": [],
   "source": []
  },
  {
   "cell_type": "code",
   "execution_count": 52,
   "metadata": {
    "collapsed": true
   },
   "outputs": [],
   "source": [
    "encoder_sampled= dummyVars(\" ~ .\", data = sampled_train[, -10],fullRank = T)\n",
    "train_sampled_encoded = data.frame(predict(encoder_sampled, newdata = sampled_train[, -10]))\n",
    "test_sampled_encoded =data.frame(predict(encoder_sampled, newdata = test_data[, -10] ))\n",
    "\n",
    "\n",
    "dtrain_sampled =  xgb.DMatrix(data = as.matrix(train_sampled_encoded), label= as.numeric(as.character(sampled_train[, 10])))\n",
    "dtest_sampled= xgb.DMatrix(data = as.matrix(test_sampled_encoded), label= as.numeric(as.character(test_data[, 10])))"
   ]
  },
  {
   "cell_type": "code",
   "execution_count": 53,
   "metadata": {
    "collapsed": false
   },
   "outputs": [
    {
     "name": "stdout",
     "output_type": "stream",
     "text": [
      "[0]\ttrain-error:0.163574\n",
      "[1]\ttrain-error:0.158127\n",
      "[2]\ttrain-error:0.154165\n",
      "[3]\ttrain-error:0.152314\n",
      "[4]\ttrain-error:0.150568\n",
      "[5]\ttrain-error:0.148275\n",
      "[6]\ttrain-error:0.146607\n",
      "[7]\ttrain-error:0.146111\n",
      "[8]\ttrain-error:0.144860\n",
      "[9]\ttrain-error:0.139804\n",
      "[10]\ttrain-error:0.140247\n",
      "[11]\ttrain-error:0.138344\n",
      "[12]\ttrain-error:0.137797\n",
      "[13]\ttrain-error:0.136598\n",
      "[14]\ttrain-error:0.134487\n",
      "[15]\ttrain-error:0.133862\n",
      "[16]\ttrain-error:0.133757\n",
      "[17]\ttrain-error:0.133392\n",
      "[18]\ttrain-error:0.132220\n",
      "[19]\ttrain-error:0.132037\n",
      "[20]\ttrain-error:0.131359\n",
      "[21]\ttrain-error:0.131099\n",
      "[22]\ttrain-error:0.130421\n",
      "[23]\ttrain-error:0.129874\n",
      "[24]\ttrain-error:0.129118\n",
      "[25]\ttrain-error:0.127632\n",
      "[26]\ttrain-error:0.126486\n",
      "[27]\ttrain-error:0.126486\n",
      "[28]\ttrain-error:0.125756\n",
      "[29]\ttrain-error:0.125912\n",
      "[30]\ttrain-error:0.125808\n",
      "[31]\ttrain-error:0.125026\n",
      "[32]\ttrain-error:0.124609\n",
      "[33]\ttrain-error:0.124036\n",
      "[34]\ttrain-error:0.123723\n",
      "[35]\ttrain-error:0.123410\n",
      "[36]\ttrain-error:0.122576\n",
      "[37]\ttrain-error:0.122055\n",
      "[38]\ttrain-error:0.121664\n",
      "[39]\ttrain-error:0.121221\n",
      "[1] \"test-error= 0.169507019262161\"\n"
     ]
    }
   ],
   "source": [
    "xg_model_sampled  =  xgboost(data = dtrain_sampled, # the data           \n",
    "                 max.depth = 6, # the maximum depth of each decision tree\n",
    "                 nround = 40, # max number of boosting iterations\n",
    "                 objective = \"binary:logistic\",\n",
    "                    eval_metric = \"error\",\n",
    "                    eta=0.5,\n",
    "                     silent=0,\n",
    "                     \n",
    "                     \n",
    "                     \n",
    "                     )\n",
    "pred_xgboost_sampled =  predict(xg_model_sampled,dtest_sampled)\n",
    "\n"
   ]
  },
  {
   "cell_type": "code",
   "execution_count": 55,
   "metadata": {
    "collapsed": false
   },
   "outputs": [
    {
     "data": {
      "text/plain": [
       "          Reference\n",
       "Prediction     0     1\n",
       "         0 10379  1432\n",
       "         1  1164  2340"
      ]
     },
     "execution_count": 55,
     "metadata": {},
     "output_type": "execute_result"
    },
    {
     "data": {
      "text/html": [
       "<dl class=dl-horizontal>\n",
       "\t<dt>Sensitivity</dt>\n",
       "\t\t<dd>0.899159663865546</dd>\n",
       "\t<dt>Specificity</dt>\n",
       "\t\t<dd>0.620360551431601</dd>\n",
       "\t<dt>Pos Pred Value</dt>\n",
       "\t\t<dd>0.878757090847515</dd>\n",
       "\t<dt>Neg Pred Value</dt>\n",
       "\t\t<dd>0.667808219178082</dd>\n",
       "\t<dt>Prevalence</dt>\n",
       "\t\t<dd>0.753705517466536</dd>\n",
       "\t<dt>Detection Rate</dt>\n",
       "\t\t<dd>0.677701599738818</dd>\n",
       "\t<dt>Detection Prevalence</dt>\n",
       "\t\t<dd>0.771204701273261</dd>\n",
       "\t<dt>Balanced Accuracy</dt>\n",
       "\t\t<dd>0.759760107648574</dd>\n",
       "</dl>\n"
      ],
      "text/latex": [
       "\\begin{description*}\n",
       "\\item[Sensitivity] 0.899159663865546\n",
       "\\item[Specificity] 0.620360551431601\n",
       "\\item[Pos Pred Value] 0.878757090847515\n",
       "\\item[Neg Pred Value] 0.667808219178082\n",
       "\\item[Prevalence] 0.753705517466536\n",
       "\\item[Detection Rate] 0.677701599738818\n",
       "\\item[Detection Prevalence] 0.771204701273261\n",
       "\\item[Balanced Accuracy] 0.759760107648574\n",
       "\\end{description*}\n"
      ],
      "text/markdown": [
       "Sensitivity\n",
       ":   0.899159663865546Specificity\n",
       ":   0.620360551431601Pos Pred Value\n",
       ":   0.878757090847515Neg Pred Value\n",
       ":   0.667808219178082Prevalence\n",
       ":   0.753705517466536Detection Rate\n",
       ":   0.677701599738818Detection Prevalence\n",
       ":   0.771204701273261Balanced Accuracy\n",
       ":   0.759760107648574\n",
       "\n"
      ],
      "text/plain": [
       "         Sensitivity          Specificity       Pos Pred Value \n",
       "           0.8991597            0.6203606            0.8787571 \n",
       "      Neg Pred Value           Prevalence       Detection Rate \n",
       "           0.6678082            0.7537055            0.6777016 \n",
       "Detection Prevalence    Balanced Accuracy \n",
       "           0.7712047            0.7597601 "
      ]
     },
     "execution_count": 55,
     "metadata": {},
     "output_type": "execute_result"
    },
    {
     "data": {
      "text/html": [
       "0.830492980737839"
      ],
      "text/latex": [
       "0.830492980737839"
      ],
      "text/markdown": [
       "0.830492980737839"
      ],
      "text/plain": [
       "[1] 0.830493"
      ]
     },
     "execution_count": 55,
     "metadata": {},
     "output_type": "execute_result"
    }
   ],
   "source": [
    "prediction_xgboost_sampled = as.factor (as.numeric(pred_xgboost_sampled > 0.5))\n",
    "confusion_matrix_xgboost_sampled= confusionMatrix(prediction_xgboost_sampled,test_data[, 10] )\n",
    "confusion_matrix_xgboost_sampled$table\n",
    "confusion_matrix_xgboost_sampled$byClass\n",
    "\n",
    "sum(diag(confusion_matrix_xgboost_sampled$table))/sum(confusion_matrix_xgboost_sampled$table)"
   ]
  },
  {
   "cell_type": "code",
   "execution_count": 58,
   "metadata": {
    "collapsed": false
   },
   "outputs": [
    {
     "name": "stdout",
     "output_type": "stream",
     "text": [
      " num [1:15315] 0.0048 0.404 0.4468 0.3306 0.0114 ...\n"
     ]
    }
   ],
   "source": []
  },
  {
   "cell_type": "code",
   "execution_count": 88,
   "metadata": {
    "collapsed": false
   },
   "outputs": [
    {
     "data": {
      "text/html": [
       "<dl class=dl-horizontal>\n",
       "\t<dt>Sensitivity</dt>\n",
       "\t\t<dd>0.849345923936585</dd>\n",
       "\t<dt>Specificity</dt>\n",
       "\t\t<dd>0.718451749734889</dd>\n",
       "\t<dt>Pos Pred Value</dt>\n",
       "\t\t<dd>0.902263942573164</dd>\n",
       "\t<dt>Neg Pred Value</dt>\n",
       "\t\t<dd>0.609125646212632</dd>\n",
       "\t<dt>Prevalence</dt>\n",
       "\t\t<dd>0.753705517466536</dd>\n",
       "\t<dt>Detection Rate</dt>\n",
       "\t\t<dd>0.640156709108717</dd>\n",
       "\t<dt>Detection Prevalence</dt>\n",
       "\t\t<dd>0.709500489715965</dd>\n",
       "\t<dt>Balanced Accuracy</dt>\n",
       "\t\t<dd>0.783898836835737</dd>\n",
       "</dl>\n"
      ],
      "text/latex": [
       "\\begin{description*}\n",
       "\\item[Sensitivity] 0.849345923936585\n",
       "\\item[Specificity] 0.718451749734889\n",
       "\\item[Pos Pred Value] 0.902263942573164\n",
       "\\item[Neg Pred Value] 0.609125646212632\n",
       "\\item[Prevalence] 0.753705517466536\n",
       "\\item[Detection Rate] 0.640156709108717\n",
       "\\item[Detection Prevalence] 0.709500489715965\n",
       "\\item[Balanced Accuracy] 0.783898836835737\n",
       "\\end{description*}\n"
      ],
      "text/markdown": [
       "Sensitivity\n",
       ":   0.849345923936585Specificity\n",
       ":   0.718451749734889Pos Pred Value\n",
       ":   0.902263942573164Neg Pred Value\n",
       ":   0.609125646212632Prevalence\n",
       ":   0.753705517466536Detection Rate\n",
       ":   0.640156709108717Detection Prevalence\n",
       ":   0.709500489715965Balanced Accuracy\n",
       ":   0.783898836835737\n",
       "\n"
      ],
      "text/plain": [
       "         Sensitivity          Specificity       Pos Pred Value \n",
       "           0.8493459            0.7184517            0.9022639 \n",
       "      Neg Pred Value           Prevalence       Detection Rate \n",
       "           0.6091256            0.7537055            0.6401567 \n",
       "Detection Prevalence    Balanced Accuracy \n",
       "           0.7095005            0.7838988 "
      ]
     },
     "execution_count": 88,
     "metadata": {},
     "output_type": "execute_result"
    }
   ],
   "source": [
    "## Now we change the cutoff probability balue.. Until now, we have been using 0.5 probability\n",
    "\n",
    "xgbpred_cuttoff = ifelse (pred_xgboost_sampled > 0.4,1,0)\n",
    "\n",
    "confu_mat_xgboost_sampled_cut= confusionMatrix(xgbpred_cuttoff,test_data[, 10] )\n",
    "\n",
    "confu_mat_xgboost_sampled_cut$byClass\n",
    "\n",
    "## We now see the changing the cut off values gave much better prediction accuracy for minority class than at 0.5 cutoff value."
   ]
  },
  {
   "cell_type": "code",
   "execution_count": null,
   "metadata": {
    "collapsed": false
   },
   "outputs": [],
   "source": []
  },
  {
   "cell_type": "code",
   "execution_count": null,
   "metadata": {
    "collapsed": true
   },
   "outputs": [],
   "source": []
  }
 ],
 "metadata": {
  "kernelspec": {
   "display_name": "R",
   "language": "R",
   "name": "ir"
  },
  "language_info": {
   "codemirror_mode": "r",
   "file_extension": ".r",
   "mimetype": "text/x-r-source",
   "name": "R",
   "pygments_lexer": "r",
   "version": "3.1.3"
  }
 },
 "nbformat": 4,
 "nbformat_minor": 0
}
